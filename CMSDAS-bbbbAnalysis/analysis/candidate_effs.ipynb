{
 "cells": [
  {
   "cell_type": "code",
   "execution_count": 1,
   "id": "94bca579-cb97-4d67-8eb8-b233ff0332bc",
   "metadata": {},
   "outputs": [],
   "source": [
    "import uproot\n",
    "import numpy as np\n",
    "import matplotlib.pyplot as plt"
   ]
  },
  {
   "cell_type": "code",
   "execution_count": 16,
   "id": "44c69198-c961-4fae-bf0a-2531da0cb2cf",
   "metadata": {},
   "outputs": [],
   "source": [
    "f1 = uproot.open(\"output_ggHH_SM_minMassDist.root\")['bbbbTree']\n",
    "f2 = uproot.open(\"output_ggHH_SM_minDiagonal.root\")['bbbbTree']\n",
    "f3 = uproot.open(\"output_ggHH_SM_closeToTrue.root\")['bbbbTree']\n",
    "branches = f1.keys()\n",
    "df1 = f1.arrays(branches,library=\"pd\")\n",
    "df2 = f2.arrays(branches,library=\"pd\")\n",
    "df3 = f3.arrays(branches,library=\"pd\")\n",
    "nEvents = len(df1)"
   ]
  },
  {
   "cell_type": "code",
   "execution_count": 17,
   "id": "8124b1a2-9f8e-4b88-922b-35a35f6eaefc",
   "metadata": {},
   "outputs": [
    {
     "name": "stdout",
     "output_type": "stream",
     "text": [
      "0.8310228735518368\n"
     ]
    }
   ],
   "source": [
    "tru1 = df1[\"allJets_truMatch\"] == True\n",
    "h1_m_tru = df1[tru1][\"truMatch_H1_m_breg\"].values\n",
    "h2_m_tru = df1[tru1][\"truMatch_H2_m_breg\"].values\n",
    "h1_m = df1[tru1][\"H1_m\"].values\n",
    "h2_m = df1[tru1][\"H2_m\"].values\n",
    "\n",
    "denom = len(h1_m)\n",
    "num = np.count_nonzero((h1_m == h1_m_tru))\n",
    "print(num/denom)"
   ]
  },
  {
   "cell_type": "code",
   "execution_count": 18,
   "id": "c85384b2-49b7-49af-b07a-7171f072fa25",
   "metadata": {},
   "outputs": [
    {
     "name": "stdout",
     "output_type": "stream",
     "text": [
      "0.8399841568472126\n"
     ]
    }
   ],
   "source": [
    "tru2 = df2[\"allJets_truMatch\"] == True\n",
    "h1_m_tru = df2[tru2][\"truMatch_H1_m_breg\"].values\n",
    "h2_m_tru = df2[tru2][\"truMatch_H2_m_breg\"].values\n",
    "h1_m = df2[tru2][\"H1_m\"].values\n",
    "h2_m = df2[tru2][\"H2_m\"].values\n",
    "\n",
    "denom = len(h1_m)\n",
    "num = np.count_nonzero((h1_m == h1_m_tru))\n",
    "print(num/denom)"
   ]
  },
  {
   "cell_type": "code",
   "execution_count": 19,
   "id": "ae330f44-bba3-4600-a0c2-a7a347e29402",
   "metadata": {},
   "outputs": [
    {
     "name": "stdout",
     "output_type": "stream",
     "text": [
      "0.9495989701950688\n"
     ]
    }
   ],
   "source": [
    "tru3 = df3[\"allJets_truMatch\"] == True\n",
    "h1_m_tru = df3[tru3][\"truMatch_H1_m_breg\"].values\n",
    "h2_m_tru = df3[tru3][\"truMatch_H2_m_breg\"].values\n",
    "h1_m = df3[tru3][\"H1_m\"].values\n",
    "h2_m = df3[tru3][\"H2_m\"].values\n",
    "\n",
    "denom = len(h1_m)\n",
    "num = np.count_nonzero((h1_m == h1_m_tru))\n",
    "print(num/denom)"
   ]
  },
  {
   "cell_type": "code",
   "execution_count": null,
   "id": "9700257b-f5c7-4af1-bcad-334124792f35",
   "metadata": {},
   "outputs": [],
   "source": []
  }
 ],
 "metadata": {
  "kernelspec": {
   "display_name": "Python [conda env:cmsdas22-long]",
   "language": "python",
   "name": "conda-env-cmsdas22-long-py"
  },
  "language_info": {
   "codemirror_mode": {
    "name": "ipython",
    "version": 3
   },
   "file_extension": ".py",
   "mimetype": "text/x-python",
   "name": "python",
   "nbconvert_exporter": "python",
   "pygments_lexer": "ipython3",
   "version": "3.8.12"
  }
 },
 "nbformat": 4,
 "nbformat_minor": 5
}
