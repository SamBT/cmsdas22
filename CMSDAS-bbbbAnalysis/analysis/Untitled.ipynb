{
 "cells": [
  {
   "cell_type": "code",
   "execution_count": 12,
   "id": "0b3b752d-184b-469a-86e0-70749ec0f154",
   "metadata": {},
   "outputs": [],
   "source": [
    "import uproot\n",
    "import numpy as np\n",
    "import matplotlib.pyplot as plt"
   ]
  },
  {
   "cell_type": "code",
   "execution_count": 78,
   "id": "c3002015-80d5-474d-b74c-bc520dc4cb5b",
   "metadata": {},
   "outputs": [
    {
     "name": "stdout",
     "output_type": "stream",
     "text": [
      "['run', 'luminosityBlock', 'event', 'xs', 'btag_SF', 'btag_SF_bup', 'btag_SF_bdown', 'btag_SF_cup', 'btag_SF_cdown', 'btag_SF_lightup', 'btag_SF_lightdown', 'norm_weight', 'trigger_SF', 'n_btag', 'allJets_truMatch', 'truMatch_H1_pt', 'truMatch_H1_pt_breg', 'truMatch_H1_eta', 'truMatch_H1_phi', 'truMatch_H1_m', 'truMatch_H1_m_breg', 'truMatch_H2_pt', 'truMatch_H2_pt_breg', 'truMatch_H2_eta', 'truMatch_H2_phi', 'truMatch_H2_m', 'truMatch_H2_m_breg', 'truMatch_HH_pt', 'truMatch_HH_pt_breg', 'truMatch_HH_eta', 'truMatch_HH_phi', 'truMatch_HH_m', 'truMatch_HH_m_breg', 'H1_pt', 'H1_eta', 'H1_phi', 'H1_m', 'H2_pt', 'H2_eta', 'H2_phi', 'H2_m', 'HH_pt', 'HH_eta', 'HH_phi', 'HH_m', 'H1H2_deltaEta', 'H1H2_deltaPhi', 'H1_costhetaCM', 'H1_b1_pt', 'H1_b1_eta', 'H1_b1_phi', 'H1_b1_m', 'H1_b2_pt', 'H1_b2_eta', 'H1_b2_phi', 'H1_b2_m', 'H2_b1_pt', 'H2_b1_eta', 'H2_b1_phi', 'H2_b1_m', 'H2_b2_pt', 'H2_b2_eta', 'H2_b2_phi', 'H2_b2_m', 'rndm_1', 'rndm_2', 'rndm_3', 'gen_H1_m', 'gen_H1_pt', 'gen_H1_eta', 'gen_H1_phi', 'gen_H2_m', 'gen_H2_pt', 'gen_H2_eta', 'gen_H2_phi', 'gen_mHH', 'gen_costh_H1_cm', 'gen_costh_H2_cm', 'gen_H1_b1_m', 'gen_H1_b1_pt', 'gen_H1_b1_eta', 'gen_H1_b1_phi', 'gen_H1_b2_m', 'gen_H1_b2_pt', 'gen_H1_b2_eta_', 'gen_H1_b2_phi', 'gen_H2_b1_m', 'gen_H2_b1_pt', 'gen_H2_b1_eta', 'gen_H2_b1_phi', 'gen_H2_b2_m', 'gen_H2_b2_pt', 'gen_H2_b2_eta', 'gen_H2_b2_phi']\n"
     ]
    }
   ],
   "source": [
    "f = uproot.open(\"output_ggHH_SM_minMassDist.root\")['bbbbTree']\n",
    "branches = f.keys()\n",
    "print(branches)\n",
    "df = f.arrays(branches,library=\"pd\")\n",
    "nEvents = len(df)"
   ]
  },
  {
   "cell_type": "code",
   "execution_count": 81,
   "id": "adc8d9fb-4462-4d03-bf54-1b7b5645da69",
   "metadata": {},
   "outputs": [
    {
     "name": "stdout",
     "output_type": "stream",
     "text": [
      "no breg:\n",
      "-4.4040956\n",
      "-11.364475\n",
      "with breg:\n",
      "1.6781921\n",
      "-2.8882883\n"
     ]
    },
    {
     "data": {
      "image/png": "[encoded data removed]",
      "text/plain": [
       "<Figure size 1440x720 with 2 Axes>"
      ]
     },
     "metadata": {
      "needs_background": "light"
     },
     "output_type": "display_data"
    }
   ],
   "source": [
    "tru = df[\"allJets_truMatch\"] == True\n",
    "\n",
    "h1_m_truMatch = df[tru][\"truMatch_H1_m\"].values\n",
    "h2_m_truMatch = df[tru][\"truMatch_H2_m\"].values\n",
    "h1_m_truMatch_breg = df[tru][\"truMatch_H1_m_breg\"].values\n",
    "h2_m_truMatch_breg = df[tru][\"truMatch_H2_m_breg\"].values\n",
    "h1_m_gen = df[tru][\"gen_H1_m\"].values\n",
    "h2_m_gen = df[tru][\"gen_H2_m\"].values\n",
    "\n",
    "dm1 = h1_m_truMatch - h1_m_gen\n",
    "dm2 = h2_m_truMatch - h2_m_gen\n",
    "dm1_breg = h1_m_truMatch_breg - h1_m_gen\n",
    "dm2_breg = h2_m_truMatch_breg - h2_m_gen\n",
    "\n",
    "plt.figure(1,(20,10))\n",
    "plt.subplot(121)\n",
    "h1 = plt.hist(dm1,bins=np.linspace(-50,50),histtype='step')\n",
    "h2 = plt.hist(dm2,bins=np.linspace(-50,50),histtype='step')\n",
    "plt.subplot(122)\n",
    "h3 = plt.hist(dm1_breg,bins=np.linspace(-50,50),histtype='step')\n",
    "h4 = plt.hist(dm2_breg,bins=np.linspace(-50,50),histtype='step')\n",
    "\n",
    "print(\"no breg:\")\n",
    "print(dm1.mean())\n",
    "print(dm2.mean())\n",
    "print(\"with breg:\")\n",
    "print(dm1_breg.mean())\n",
    "print(dm2_breg.mean())"
   ]
  },
  {
   "cell_type": "code",
   "execution_count": 84,
   "id": "3528ad36-4ee6-4856-a432-259611777f59",
   "metadata": {},
   "outputs": [
    {
     "name": "stdout",
     "output_type": "stream",
     "text": [
      "means with b-reg\n",
      "126.678185\n",
      "122.11171\n",
      "medians with b-reg\n",
      "126.86606\n",
      "122.2408\n"
     ]
    }
   ],
   "source": [
    "print(\"means with b-reg\")\n",
    "print(h1_m_truMatch_breg.mean())\n",
    "print(h2_m_truMatch_breg.mean())\n",
    "print(\"medians with b-reg\")\n",
    "print(np.median(h1_m_truMatch_breg))\n",
    "print(np.median(h2_m_truMatch_breg))"
   ]
  },
  {
   "cell_type": "code",
   "execution_count": 65,
   "id": "cb532ac1-de07-4d77-92cf-20ae5626e8f7",
   "metadata": {},
   "outputs": [
    {
     "data": {
      "text/plain": [
       "20198"
      ]
     },
     "execution_count": 65,
     "metadata": {},
     "output_type": "execute_result"
    }
   ],
   "source": [
    "len(h1_m_truMatch)"
   ]
  },
  {
   "cell_type": "code",
   "execution_count": 71,
   "id": "cb2142e0-fc03-47b5-bb8e-e21ef4d543e2",
   "metadata": {},
   "outputs": [
    {
     "data": {
      "text/plain": [
       "0.8310228735518368"
      ]
     },
     "execution_count": 71,
     "metadata": {},
     "output_type": "execute_result"
    }
   ],
   "source": [
    "16785/20198"
   ]
  },
  {
   "cell_type": "code",
   "execution_count": null,
   "id": "30a082e0-9009-481b-8030-5883b0389259",
   "metadata": {},
   "outputs": [],
   "source": []
  }
 ],
 "metadata": {
  "kernelspec": {
   "display_name": "Python [conda env:cmsdas22-long]",
   "language": "python",
   "name": "conda-env-cmsdas22-long-py"
  },
  "language_info": {
   "codemirror_mode": {
    "name": "ipython",
    "version": 3
   },
   "file_extension": ".py",
   "mimetype": "text/x-python",
   "name": "python",
   "nbconvert_exporter": "python",
   "pygments_lexer": "ipython3",
   "version": "3.8.12"
  }
 },
 "nbformat": 4,
 "nbformat_minor": 5
}
