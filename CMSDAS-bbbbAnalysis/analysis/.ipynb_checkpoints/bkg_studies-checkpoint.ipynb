{
 "cells": [
  {
   "cell_type": "code",
   "execution_count": 1,
   "id": "4236e7b8-b196-48ee-90a3-118b2fcd4d67",
   "metadata": {},
   "outputs": [],
   "source": [
    "import uproot\n",
    "import numpy as np\n",
    "import matplotlib.pyplot as plt"
   ]
  },
  {
   "cell_type": "code",
   "execution_count": 9,
   "id": "4ec91499-e44c-4491-b984-72c74c9454b0",
   "metadata": {},
   "outputs": [
    {
     "data": {
      "image/png": "[encoded data removed]",
      "text/plain": [
       "<Figure size 864x576 with 1 Axes>"
      ]
     },
     "metadata": {
      "needs_background": "light"
     },
     "output_type": "display_data"
    }
   ],
   "source": [
    "method = \"minMassDist\"\n",
    "fs = uproot.open(\"output_ggHH_SM_{0}.root\".format(method))['bbbbTree']\n",
    "fb = uproot.open(\"output_bkg_{0}.root\".format(method))['bbbbTree']\n",
    "branches = fs.keys()\n",
    "\n",
    "dfs = fs.arrays(branches,library=\"pd\")\n",
    "dfb = fb.arrays(branches,library=\"pd\")\n",
    "\n",
    "cut_s = (dfs[\"n_btag\"] == 4)\n",
    "cut_b = (dfb[\"n_btag\"] == 4)\n",
    "\n",
    "dfs = dfs[cut_s]\n",
    "dfb = dfb[cut_b]\n",
    "\n",
    "plt.figure(1,(12,8))\n",
    "bins = np.linspace(0,1000,num=500)\n",
    "hs = plt.hist(dfs[\"HH_m\"],bins=bins,histtype='step')\n",
    "hb = plt.hist(dfb[\"HH_m\"],bins=bins,histtype='step')"
   ]
  },
  {
   "cell_type": "code",
   "execution_count": 5,
   "id": "fd27a978-690b-4c31-a2e8-59ad094851ee",
   "metadata": {},
   "outputs": [
    {
     "name": "stdout",
     "output_type": "stream",
     "text": [
      "['run', 'luminosityBlock', 'event', 'xs', 'btag_SF', 'btag_SF_bup', 'btag_SF_bdown', 'btag_SF_cup', 'btag_SF_cdown', 'btag_SF_lightup', 'btag_SF_lightdown', 'norm_weight', 'trigger_SF', 'n_btag', 'allJets_truMatch', 'truMatch_H1_pt', 'truMatch_H1_pt_breg', 'truMatch_H1_eta', 'truMatch_H1_phi', 'truMatch_H1_m', 'truMatch_H1_m_breg', 'truMatch_H2_pt', 'truMatch_H2_pt_breg', 'truMatch_H2_eta', 'truMatch_H2_phi', 'truMatch_H2_m', 'truMatch_H2_m_breg', 'truMatch_HH_pt', 'truMatch_HH_pt_breg', 'truMatch_HH_eta', 'truMatch_HH_phi', 'truMatch_HH_m', 'truMatch_HH_m_breg', 'H1_pt', 'H1_eta', 'H1_phi', 'H1_m', 'H2_pt', 'H2_eta', 'H2_phi', 'H2_m', 'HH_pt', 'HH_eta', 'HH_phi', 'HH_m', 'H1H2_deltaEta', 'H1H2_deltaPhi', 'H1_costhetaCM', 'H1_b1_pt', 'H1_b1_eta', 'H1_b1_phi', 'H1_b1_m', 'H1_b2_pt', 'H1_b2_eta', 'H1_b2_phi', 'H1_b2_m', 'H2_b1_pt', 'H2_b1_eta', 'H2_b1_phi', 'H2_b1_m', 'H2_b2_pt', 'H2_b2_eta', 'H2_b2_phi', 'H2_b2_m', 'rndm_1', 'rndm_2', 'rndm_3', 'gen_H1_m', 'gen_H1_pt', 'gen_H1_eta', 'gen_H1_phi', 'gen_H2_m', 'gen_H2_pt', 'gen_H2_eta', 'gen_H2_phi', 'gen_mHH', 'gen_costh_H1_cm', 'gen_costh_H2_cm', 'gen_H1_b1_m', 'gen_H1_b1_pt', 'gen_H1_b1_eta', 'gen_H1_b1_phi', 'gen_H1_b2_m', 'gen_H1_b2_pt', 'gen_H1_b2_eta_', 'gen_H1_b2_phi', 'gen_H2_b1_m', 'gen_H2_b1_pt', 'gen_H2_b1_eta', 'gen_H2_b1_phi', 'gen_H2_b2_m', 'gen_H2_b2_pt', 'gen_H2_b2_eta', 'gen_H2_b2_phi']\n"
     ]
    }
   ],
   "source": [
    "print(branches)"
   ]
  },
  {
   "cell_type": "code",
   "execution_count": null,
   "id": "ca0157e9-1846-48d5-9774-8498e424514e",
   "metadata": {},
   "outputs": [],
   "source": []
  }
 ],
 "metadata": {
  "kernelspec": {
   "display_name": "Python [conda env:cmsdas22-long]",
   "language": "python",
   "name": "conda-env-cmsdas22-long-py"
  },
  "language_info": {
   "codemirror_mode": {
    "name": "ipython",
    "version": 3
   },
   "file_extension": ".py",
   "mimetype": "text/x-python",
   "name": "python",
   "nbconvert_exporter": "python",
   "pygments_lexer": "ipython3",
   "version": "3.8.12"
  }
 },
 "nbformat": 4,
 "nbformat_minor": 5
}
